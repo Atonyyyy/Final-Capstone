{
 "cells": [
  {
   "cell_type": "code",
   "execution_count": 1,
   "metadata": {},
   "outputs": [],
   "source": [
    "import pandas as pd\n",
    "import numpy as np\n",
    "%matplotlib inline\n",
    "\n",
    "# Load a non-stationary dataset\n",
    "df1 = pd.read_csv('googl.txt')\n",
    "#df1.index.freq = 'W'"
   ]
  },
  {
   "cell_type": "code",
   "execution_count": 2,
   "metadata": {},
   "outputs": [
    {
     "data": {
      "text/html": [
       "<div>\n",
       "<style scoped>\n",
       "    .dataframe tbody tr th:only-of-type {\n",
       "        vertical-align: middle;\n",
       "    }\n",
       "\n",
       "    .dataframe tbody tr th {\n",
       "        vertical-align: top;\n",
       "    }\n",
       "\n",
       "    .dataframe thead th {\n",
       "        text-align: right;\n",
       "    }\n",
       "</style>\n",
       "<table border=\"1\" class=\"dataframe\">\n",
       "  <thead>\n",
       "    <tr style=\"text-align: right;\">\n",
       "      <th></th>\n",
       "      <th>Date</th>\n",
       "      <th>Open</th>\n",
       "      <th>High</th>\n",
       "      <th>Low</th>\n",
       "      <th>Close</th>\n",
       "      <th>Volume</th>\n",
       "      <th>OpenInt</th>\n",
       "    </tr>\n",
       "  </thead>\n",
       "  <tbody>\n",
       "    <tr>\n",
       "      <th>3328</th>\n",
       "      <td>2017-11-06</td>\n",
       "      <td>1049.10</td>\n",
       "      <td>1052.59</td>\n",
       "      <td>1042.00</td>\n",
       "      <td>1042.68</td>\n",
       "      <td>913954</td>\n",
       "      <td>0</td>\n",
       "    </tr>\n",
       "    <tr>\n",
       "      <th>3329</th>\n",
       "      <td>2017-11-07</td>\n",
       "      <td>1049.65</td>\n",
       "      <td>1053.41</td>\n",
       "      <td>1043.00</td>\n",
       "      <td>1052.39</td>\n",
       "      <td>1303832</td>\n",
       "      <td>0</td>\n",
       "    </tr>\n",
       "    <tr>\n",
       "      <th>3330</th>\n",
       "      <td>2017-11-08</td>\n",
       "      <td>1050.05</td>\n",
       "      <td>1062.69</td>\n",
       "      <td>1047.05</td>\n",
       "      <td>1058.29</td>\n",
       "      <td>1214469</td>\n",
       "      <td>0</td>\n",
       "    </tr>\n",
       "    <tr>\n",
       "      <th>3331</th>\n",
       "      <td>2017-11-09</td>\n",
       "      <td>1048.00</td>\n",
       "      <td>1050.88</td>\n",
       "      <td>1035.85</td>\n",
       "      <td>1047.72</td>\n",
       "      <td>1793994</td>\n",
       "      <td>0</td>\n",
       "    </tr>\n",
       "    <tr>\n",
       "      <th>3332</th>\n",
       "      <td>2017-11-10</td>\n",
       "      <td>1043.87</td>\n",
       "      <td>1046.63</td>\n",
       "      <td>1041.22</td>\n",
       "      <td>1044.15</td>\n",
       "      <td>970498</td>\n",
       "      <td>0</td>\n",
       "    </tr>\n",
       "  </tbody>\n",
       "</table>\n",
       "</div>"
      ],
      "text/plain": [
       "            Date     Open     High      Low    Close   Volume  OpenInt\n",
       "3328  2017-11-06  1049.10  1052.59  1042.00  1042.68   913954        0\n",
       "3329  2017-11-07  1049.65  1053.41  1043.00  1052.39  1303832        0\n",
       "3330  2017-11-08  1050.05  1062.69  1047.05  1058.29  1214469        0\n",
       "3331  2017-11-09  1048.00  1050.88  1035.85  1047.72  1793994        0\n",
       "3332  2017-11-10  1043.87  1046.63  1041.22  1044.15   970498        0"
      ]
     },
     "execution_count": 2,
     "metadata": {},
     "output_type": "execute_result"
    }
   ],
   "source": [
    "df1.tail()"
   ]
  },
  {
   "cell_type": "code",
   "execution_count": 3,
   "metadata": {},
   "outputs": [],
   "source": [
    "df=df1[~df1['Date'].isnull()]"
   ]
  },
  {
   "cell_type": "code",
   "execution_count": 4,
   "metadata": {},
   "outputs": [
    {
     "data": {
      "text/plain": [
       "(3333, 7)"
      ]
     },
     "execution_count": 4,
     "metadata": {},
     "output_type": "execute_result"
    }
   ],
   "source": [
    "df.shape"
   ]
  },
  {
   "cell_type": "code",
   "execution_count": 5,
   "metadata": {},
   "outputs": [],
   "source": [
    "df['Date'] = pd.to_datetime(df['Date'])"
   ]
  },
  {
   "cell_type": "code",
   "execution_count": 6,
   "metadata": {},
   "outputs": [
    {
     "data": {
      "text/plain": [
       "Timestamp('2004-08-19 00:00:00')"
      ]
     },
     "execution_count": 6,
     "metadata": {},
     "output_type": "execute_result"
    }
   ],
   "source": [
    "df['Date'].min()"
   ]
  },
  {
   "cell_type": "code",
   "execution_count": 7,
   "metadata": {},
   "outputs": [],
   "source": [
    "indexedDataset=df.set_index(['Date'])"
   ]
  },
  {
   "cell_type": "code",
   "execution_count": null,
   "metadata": {},
   "outputs": [],
   "source": []
  },
  {
   "cell_type": "code",
   "execution_count": 8,
   "metadata": {},
   "outputs": [],
   "source": [
    "indexedDataset=indexedDataset[['Open']]"
   ]
  },
  {
   "cell_type": "code",
   "execution_count": 9,
   "metadata": {},
   "outputs": [
    {
     "data": {
      "text/html": [
       "<div>\n",
       "<style scoped>\n",
       "    .dataframe tbody tr th:only-of-type {\n",
       "        vertical-align: middle;\n",
       "    }\n",
       "\n",
       "    .dataframe tbody tr th {\n",
       "        vertical-align: top;\n",
       "    }\n",
       "\n",
       "    .dataframe thead th {\n",
       "        text-align: right;\n",
       "    }\n",
       "</style>\n",
       "<table border=\"1\" class=\"dataframe\">\n",
       "  <thead>\n",
       "    <tr style=\"text-align: right;\">\n",
       "      <th></th>\n",
       "      <th>Open</th>\n",
       "    </tr>\n",
       "    <tr>\n",
       "      <th>Date</th>\n",
       "      <th></th>\n",
       "    </tr>\n",
       "  </thead>\n",
       "  <tbody>\n",
       "    <tr>\n",
       "      <th>2004-08-19</th>\n",
       "      <td>50.000</td>\n",
       "    </tr>\n",
       "    <tr>\n",
       "      <th>2004-08-20</th>\n",
       "      <td>50.505</td>\n",
       "    </tr>\n",
       "    <tr>\n",
       "      <th>2004-08-23</th>\n",
       "      <td>55.375</td>\n",
       "    </tr>\n",
       "    <tr>\n",
       "      <th>2004-08-24</th>\n",
       "      <td>55.620</td>\n",
       "    </tr>\n",
       "    <tr>\n",
       "      <th>2004-08-25</th>\n",
       "      <td>52.480</td>\n",
       "    </tr>\n",
       "  </tbody>\n",
       "</table>\n",
       "</div>"
      ],
      "text/plain": [
       "              Open\n",
       "Date              \n",
       "2004-08-19  50.000\n",
       "2004-08-20  50.505\n",
       "2004-08-23  55.375\n",
       "2004-08-24  55.620\n",
       "2004-08-25  52.480"
      ]
     },
     "execution_count": 9,
     "metadata": {},
     "output_type": "execute_result"
    }
   ],
   "source": [
    "indexedDataset.head()"
   ]
  },
  {
   "cell_type": "code",
   "execution_count": 10,
   "metadata": {},
   "outputs": [
    {
     "data": {
      "text/plain": [
       "[<matplotlib.lines.Line2D at 0x126bef5ff60>]"
      ]
     },
     "execution_count": 10,
     "metadata": {},
     "output_type": "execute_result"
    },
    {
     "data": {
      "image/png": "[encoded data removed]",
      "text/plain": [
       "<Figure size 432x288 with 1 Axes>"
      ]
     },
     "metadata": {
      "needs_background": "light"
     },
     "output_type": "display_data"
    }
   ],
   "source": [
    "import matplotlib.pyplot as plt\n",
    "plt.xlabel('Date')\n",
    "plt.ylabel('Open')\n",
    "plt.plot(indexedDataset)"
   ]
  },
  {
   "cell_type": "code",
   "execution_count": 11,
   "metadata": {},
   "outputs": [],
   "source": [
    "## the mean is not constant and neither the variance\n",
    "from statsmodels.tsa.stattools import adfuller\n",
    "acdf_test=adfuller(indexedDataset['Open'],autolag='AIC')\n",
    "df_output=pd.Series(acdf_test[0:4], index=['Test Statistic','p-value','#lags used','#nobs used'])"
   ]
  },
  {
   "cell_type": "code",
   "execution_count": 12,
   "metadata": {},
   "outputs": [
    {
     "name": "stdout",
     "output_type": "stream",
     "text": [
      "Test Statistic       1.038048\n",
      "p-value              0.994652\n",
      "#lags used          27.000000\n",
      "#nobs used        3305.000000\n",
      "dtype: float64\n",
      "1% -3.4323301471235474\n",
      "5% -2.8624149121800033\n",
      "10% -2.567235733713875\n"
     ]
    }
   ],
   "source": [
    "print(df_output)\n",
    "for k,v in acdf_test[4].items():\n",
    "    print (k,v)\n",
    "    \n",
    "##null hypothesis is ::: data is non-stationary\n",
    "## ftr null."
   ]
  },
  {
   "cell_type": "code",
   "execution_count": 13,
   "metadata": {},
   "outputs": [],
   "source": [
    "import numpy as np\n",
    "indexedDataset_logscale=np.log(indexedDataset)"
   ]
  },
  {
   "cell_type": "code",
   "execution_count": 14,
   "metadata": {},
   "outputs": [
    {
     "data": {
      "text/html": [
       "<div>\n",
       "<style scoped>\n",
       "    .dataframe tbody tr th:only-of-type {\n",
       "        vertical-align: middle;\n",
       "    }\n",
       "\n",
       "    .dataframe tbody tr th {\n",
       "        vertical-align: top;\n",
       "    }\n",
       "\n",
       "    .dataframe thead th {\n",
       "        text-align: right;\n",
       "    }\n",
       "</style>\n",
       "<table border=\"1\" class=\"dataframe\">\n",
       "  <thead>\n",
       "    <tr style=\"text-align: right;\">\n",
       "      <th></th>\n",
       "      <th>Open</th>\n",
       "    </tr>\n",
       "    <tr>\n",
       "      <th>Date</th>\n",
       "      <th></th>\n",
       "    </tr>\n",
       "  </thead>\n",
       "  <tbody>\n",
       "    <tr>\n",
       "      <th>2004-08-19</th>\n",
       "      <td>3.912023</td>\n",
       "    </tr>\n",
       "    <tr>\n",
       "      <th>2004-08-20</th>\n",
       "      <td>3.922072</td>\n",
       "    </tr>\n",
       "    <tr>\n",
       "      <th>2004-08-23</th>\n",
       "      <td>4.014128</td>\n",
       "    </tr>\n",
       "    <tr>\n",
       "      <th>2004-08-24</th>\n",
       "      <td>4.018543</td>\n",
       "    </tr>\n",
       "    <tr>\n",
       "      <th>2004-08-25</th>\n",
       "      <td>3.960432</td>\n",
       "    </tr>\n",
       "  </tbody>\n",
       "</table>\n",
       "</div>"
      ],
      "text/plain": [
       "                Open\n",
       "Date                \n",
       "2004-08-19  3.912023\n",
       "2004-08-20  3.922072\n",
       "2004-08-23  4.014128\n",
       "2004-08-24  4.018543\n",
       "2004-08-25  3.960432"
      ]
     },
     "execution_count": 14,
     "metadata": {},
     "output_type": "execute_result"
    }
   ],
   "source": [
    "indexedDataset_logscale.head()"
   ]
  },
  {
   "cell_type": "code",
   "execution_count": 15,
   "metadata": {},
   "outputs": [],
   "source": [
    "from statsmodels.tsa.seasonal import seasonal_decompose\n",
    "decomposition=seasonal_decompose(indexedDataset_logscale, freq=365)\n",
    "#decomposition = seasonal_decompose(ts_log.price.values, freq=30)"
   ]
  },
  {
   "cell_type": "code",
   "execution_count": 16,
   "metadata": {},
   "outputs": [],
   "source": [
    "trend=decomposition.trend## these steps produce indiv datasets\n",
    "seasonal=decomposition.seasonal\n",
    "residual=decomposition.resid"
   ]
  },
  {
   "cell_type": "code",
   "execution_count": 17,
   "metadata": {},
   "outputs": [
    {
     "data": {
      "text/plain": [
       "<matplotlib.legend.Legend at 0x126c9f96f28>"
      ]
     },
     "execution_count": 17,
     "metadata": {},
     "output_type": "execute_result"
    },
    {
     "data": {
      "image/png": "[encoded data removed]",
      "text/plain": [
       "<Figure size 432x288 with 4 Axes>"
      ]
     },
     "metadata": {
      "needs_background": "light"
     },
     "output_type": "display_data"
    }
   ],
   "source": [
    "plt.subplot(411)\n",
    "plt.plot(indexedDataset_logscale, label='Original')\n",
    "plt.legend(loc='best')\n",
    "\n",
    "\n",
    "plt.subplot(412)\n",
    "plt.plot(trend, label='trend')\n",
    "plt.legend(loc='best')\n",
    "\n",
    "plt.subplot(413)\n",
    "plt.plot(seasonal, label='seasonal')\n",
    "plt.legend(loc='best')\n",
    "\n",
    "plt.subplot(414)\n",
    "plt.plot(residual, label='residual')\n",
    "plt.legend(loc='best')"
   ]
  },
  {
   "cell_type": "code",
   "execution_count": 18,
   "metadata": {},
   "outputs": [],
   "source": [
    "from pmdarima import auto_arima\n",
    "import warnings\n",
    "warnings.filterwarnings(\"ignore\")"
   ]
  },
  {
   "cell_type": "code",
   "execution_count": 85,
   "metadata": {},
   "outputs": [
    {
     "name": "stdout",
     "output_type": "stream",
     "text": [
      "Fit ARIMA: order=(1, 1, 1) seasonal_order=(1, 1, 1, 12); AIC=nan, BIC=nan, Fit time=nan seconds\n",
      "Fit ARIMA: order=(0, 1, 0) seasonal_order=(0, 1, 0, 12); AIC=24370.330, BIC=24382.546, Fit time=0.343 seconds\n",
      "Fit ARIMA: order=(1, 1, 0) seasonal_order=(1, 1, 0, 12); AIC=23458.833, BIC=23483.264, Fit time=6.056 seconds\n",
      "Fit ARIMA: order=(0, 1, 1) seasonal_order=(0, 1, 1, 12); AIC=22169.548, BIC=22193.978, Fit time=19.003 seconds\n",
      "Fit ARIMA: order=(0, 1, 1) seasonal_order=(1, 1, 1, 12); AIC=22171.420, BIC=22201.958, Fit time=20.456 seconds\n",
      "Fit ARIMA: order=(0, 1, 1) seasonal_order=(0, 1, 0, 12); AIC=24372.329, BIC=24390.652, Fit time=1.651 seconds\n",
      "Fit ARIMA: order=(0, 1, 1) seasonal_order=(0, 1, 2, 12); AIC=22171.417, BIC=22201.956, Fit time=53.231 seconds\n",
      "Fit ARIMA: order=(0, 1, 1) seasonal_order=(1, 1, 2, 12); AIC=22173.544, BIC=22210.190, Fit time=28.153 seconds\n",
      "Fit ARIMA: order=(1, 1, 1) seasonal_order=(0, 1, 1, 12); AIC=nan, BIC=nan, Fit time=nan seconds\n",
      "Fit ARIMA: order=(0, 1, 0) seasonal_order=(0, 1, 1, 12); AIC=22168.141, BIC=22186.464, Fit time=7.772 seconds\n",
      "Fit ARIMA: order=(0, 1, 0) seasonal_order=(1, 1, 1, 12); AIC=22170.000, BIC=22194.431, Fit time=13.187 seconds\n",
      "Fit ARIMA: order=(0, 1, 0) seasonal_order=(0, 1, 2, 12); AIC=22169.998, BIC=22194.429, Fit time=28.750 seconds\n",
      "Fit ARIMA: order=(0, 1, 0) seasonal_order=(1, 1, 2, 12); AIC=22172.138, BIC=22202.676, Fit time=19.863 seconds\n",
      "Fit ARIMA: order=(1, 1, 0) seasonal_order=(0, 1, 1, 12); AIC=22169.549, BIC=22193.980, Fit time=10.663 seconds\n",
      "Total fit time: 209.145 seconds\n"
     ]
    },
    {
     "data": {
      "text/html": [
       "<table class=\"simpletable\">\n",
       "<caption>Statespace Model Results</caption>\n",
       "<tr>\n",
       "  <th>Dep. Variable:</th>                  <td>y</td>               <th>  No. Observations:  </th>    <td>3333</td>   \n",
       "</tr>\n",
       "<tr>\n",
       "  <th>Model:</th>           <td>SARIMAX(0, 1, 0)x(0, 1, 1, 12)</td> <th>  Log Likelihood     </th> <td>-11081.071</td>\n",
       "</tr>\n",
       "<tr>\n",
       "  <th>Date:</th>                   <td>Tue, 17 Sep 2019</td>        <th>  AIC                </th>  <td>22168.141</td>\n",
       "</tr>\n",
       "<tr>\n",
       "  <th>Time:</th>                       <td>21:31:59</td>            <th>  BIC                </th>  <td>22186.464</td>\n",
       "</tr>\n",
       "<tr>\n",
       "  <th>Sample:</th>                         <td>0</td>               <th>  HQIC               </th>  <td>22174.698</td>\n",
       "</tr>\n",
       "<tr>\n",
       "  <th></th>                             <td> - 3333</td>            <th>                     </th>      <td> </td>    \n",
       "</tr>\n",
       "<tr>\n",
       "  <th>Covariance Type:</th>               <td>opg</td>              <th>                     </th>      <td> </td>    \n",
       "</tr>\n",
       "</table>\n",
       "<table class=\"simpletable\">\n",
       "<tr>\n",
       "      <td></td>         <th>coef</th>     <th>std err</th>      <th>z</th>      <th>P>|z|</th>  <th>[0.025</th>    <th>0.975]</th>  \n",
       "</tr>\n",
       "<tr>\n",
       "  <th>intercept</th> <td>    0.0020</td> <td>    0.001</td> <td>    1.477</td> <td> 0.140</td> <td>   -0.001</td> <td>    0.005</td>\n",
       "</tr>\n",
       "<tr>\n",
       "  <th>ma.S.L12</th>  <td>   -0.9936</td> <td>    0.004</td> <td> -252.529</td> <td> 0.000</td> <td>   -1.001</td> <td>   -0.986</td>\n",
       "</tr>\n",
       "<tr>\n",
       "  <th>sigma2</th>    <td>   45.6851</td> <td>    0.325</td> <td>  140.381</td> <td> 0.000</td> <td>   45.047</td> <td>   46.323</td>\n",
       "</tr>\n",
       "</table>\n",
       "<table class=\"simpletable\">\n",
       "<tr>\n",
       "  <th>Ljung-Box (Q):</th>          <td>81.42</td> <th>  Jarque-Bera (JB):  </th> <td>68938.06</td>\n",
       "</tr>\n",
       "<tr>\n",
       "  <th>Prob(Q):</th>                <td>0.00</td>  <th>  Prob(JB):          </th>   <td>0.00</td>  \n",
       "</tr>\n",
       "<tr>\n",
       "  <th>Heteroskedasticity (H):</th> <td>3.56</td>  <th>  Skew:              </th>   <td>0.64</td>  \n",
       "</tr>\n",
       "<tr>\n",
       "  <th>Prob(H) (two-sided):</th>    <td>0.00</td>  <th>  Kurtosis:          </th>   <td>25.29</td> \n",
       "</tr>\n",
       "</table><br/><br/>Warnings:<br/>[1] Covariance matrix calculated using the outer product of gradients (complex-step)."
      ],
      "text/plain": [
       "<class 'statsmodels.iolib.summary.Summary'>\n",
       "\"\"\"\n",
       "                                 Statespace Model Results                                 \n",
       "==========================================================================================\n",
       "Dep. Variable:                                  y   No. Observations:                 3333\n",
       "Model:             SARIMAX(0, 1, 0)x(0, 1, 1, 12)   Log Likelihood              -11081.071\n",
       "Date:                            Tue, 17 Sep 2019   AIC                          22168.141\n",
       "Time:                                    21:31:59   BIC                          22186.464\n",
       "Sample:                                         0   HQIC                         22174.698\n",
       "                                           - 3333                                         \n",
       "Covariance Type:                              opg                                         \n",
       "==============================================================================\n",
       "                 coef    std err          z      P>|z|      [0.025      0.975]\n",
       "------------------------------------------------------------------------------\n",
       "intercept      0.0020      0.001      1.477      0.140      -0.001       0.005\n",
       "ma.S.L12      -0.9936      0.004   -252.529      0.000      -1.001      -0.986\n",
       "sigma2        45.6851      0.325    140.381      0.000      45.047      46.323\n",
       "===================================================================================\n",
       "Ljung-Box (Q):                       81.42   Jarque-Bera (JB):             68938.06\n",
       "Prob(Q):                              0.00   Prob(JB):                         0.00\n",
       "Heteroskedasticity (H):               3.56   Skew:                             0.64\n",
       "Prob(H) (two-sided):                  0.00   Kurtosis:                        25.29\n",
       "===================================================================================\n",
       "\n",
       "Warnings:\n",
       "[1] Covariance matrix calculated using the outer product of gradients (complex-step).\n",
       "\"\"\""
      ]
     },
     "execution_count": 85,
     "metadata": {},
     "output_type": "execute_result"
    }
   ],
   "source": [
    "stepwise_fit = auto_arima(indexedDataset['Open'], start_p=1, start_q=1,\n",
    "                          max_p=4, max_q=4,m=12,\n",
    "                           seasonal=True,\n",
    "                          d=1, D=1, trace=True,\n",
    "                          error_action='ignore',   # we don't want to know if an order does not work\n",
    "                          suppress_warnings=True,  # we don't want convergence warnings\n",
    "                          stepwise=True)           # set to stepwise\n",
    "\n",
    "stepwise_fit.summary()"
   ]
  },
  {
   "cell_type": "code",
   "execution_count": null,
   "metadata": {},
   "outputs": [],
   "source": [
    "indexedDataset.shape"
   ]
  },
  {
   "cell_type": "code",
   "execution_count": 86,
   "metadata": {},
   "outputs": [],
   "source": [
    "# Set four weeks for testing\n",
    "train = indexedDataset.iloc[:3000]##can't do random bc we have to be chronological.\n",
    "test = indexedDataset.iloc[3000:]##lower prediciton window to get better rmse"
   ]
  },
  {
   "cell_type": "code",
   "execution_count": 36,
   "metadata": {},
   "outputs": [
    {
     "data": {
      "text/html": [
       "<div>\n",
       "<style scoped>\n",
       "    .dataframe tbody tr th:only-of-type {\n",
       "        vertical-align: middle;\n",
       "    }\n",
       "\n",
       "    .dataframe tbody tr th {\n",
       "        vertical-align: top;\n",
       "    }\n",
       "\n",
       "    .dataframe thead th {\n",
       "        text-align: right;\n",
       "    }\n",
       "</style>\n",
       "<table border=\"1\" class=\"dataframe\">\n",
       "  <thead>\n",
       "    <tr style=\"text-align: right;\">\n",
       "      <th></th>\n",
       "      <th>Open</th>\n",
       "    </tr>\n",
       "    <tr>\n",
       "      <th>Date</th>\n",
       "      <th></th>\n",
       "    </tr>\n",
       "  </thead>\n",
       "  <tbody>\n",
       "    <tr>\n",
       "      <th>2016-07-20</th>\n",
       "      <td>754.05</td>\n",
       "    </tr>\n",
       "    <tr>\n",
       "      <th>2016-07-21</th>\n",
       "      <td>757.00</td>\n",
       "    </tr>\n",
       "    <tr>\n",
       "      <th>2016-07-22</th>\n",
       "      <td>757.32</td>\n",
       "    </tr>\n",
       "    <tr>\n",
       "      <th>2016-07-25</th>\n",
       "      <td>757.68</td>\n",
       "    </tr>\n",
       "    <tr>\n",
       "      <th>2016-07-26</th>\n",
       "      <td>757.52</td>\n",
       "    </tr>\n",
       "  </tbody>\n",
       "</table>\n",
       "</div>"
      ],
      "text/plain": [
       "              Open\n",
       "Date              \n",
       "2016-07-20  754.05\n",
       "2016-07-21  757.00\n",
       "2016-07-22  757.32\n",
       "2016-07-25  757.68\n",
       "2016-07-26  757.52"
      ]
     },
     "execution_count": 36,
     "metadata": {},
     "output_type": "execute_result"
    }
   ],
   "source": [
    "test.head()"
   ]
  },
  {
   "cell_type": "code",
   "execution_count": 87,
   "metadata": {},
   "outputs": [
    {
     "data": {
      "text/html": [
       "<table class=\"simpletable\">\n",
       "<caption>Statespace Model Results</caption>\n",
       "<tr>\n",
       "  <th>Dep. Variable:</th>                <td>Open</td>              <th>  No. Observations:  </th>   <td>3000</td>   \n",
       "</tr>\n",
       "<tr>\n",
       "  <th>Model:</th>           <td>SARIMAX(0, 1, 0)x(0, 1, 1, 12)</td> <th>  Log Likelihood     </th> <td>-9850.618</td>\n",
       "</tr>\n",
       "<tr>\n",
       "  <th>Date:</th>                   <td>Tue, 17 Sep 2019</td>        <th>  AIC                </th> <td>19705.236</td>\n",
       "</tr>\n",
       "<tr>\n",
       "  <th>Time:</th>                       <td>21:33:48</td>            <th>  BIC                </th> <td>19717.240</td>\n",
       "</tr>\n",
       "<tr>\n",
       "  <th>Sample:</th>                         <td>0</td>               <th>  HQIC               </th> <td>19709.555</td>\n",
       "</tr>\n",
       "<tr>\n",
       "  <th></th>                             <td> - 3000</td>            <th>                     </th>     <td> </td>    \n",
       "</tr>\n",
       "<tr>\n",
       "  <th>Covariance Type:</th>               <td>opg</td>              <th>                     </th>     <td> </td>    \n",
       "</tr>\n",
       "</table>\n",
       "<table class=\"simpletable\">\n",
       "<tr>\n",
       "      <td></td>        <th>coef</th>     <th>std err</th>      <th>z</th>      <th>P>|z|</th>  <th>[0.025</th>    <th>0.975]</th>  \n",
       "</tr>\n",
       "<tr>\n",
       "  <th>ma.S.L12</th> <td>   -1.0030</td> <td>    0.007</td> <td> -140.115</td> <td> 0.000</td> <td>   -1.017</td> <td>   -0.989</td>\n",
       "</tr>\n",
       "<tr>\n",
       "  <th>sigma2</th>   <td>   41.7703</td> <td>    0.549</td> <td>   76.133</td> <td> 0.000</td> <td>   40.695</td> <td>   42.846</td>\n",
       "</tr>\n",
       "</table>\n",
       "<table class=\"simpletable\">\n",
       "<tr>\n",
       "  <th>Ljung-Box (Q):</th>          <td>76.27</td> <th>  Jarque-Bera (JB):  </th> <td>94287.15</td>\n",
       "</tr>\n",
       "<tr>\n",
       "  <th>Prob(Q):</th>                <td>0.00</td>  <th>  Prob(JB):          </th>   <td>0.00</td>  \n",
       "</tr>\n",
       "<tr>\n",
       "  <th>Heteroskedasticity (H):</th> <td>3.62</td>  <th>  Skew:              </th>   <td>0.97</td>  \n",
       "</tr>\n",
       "<tr>\n",
       "  <th>Prob(H) (two-sided):</th>    <td>0.00</td>  <th>  Kurtosis:          </th>   <td>30.46</td> \n",
       "</tr>\n",
       "</table><br/><br/>Warnings:<br/>[1] Covariance matrix calculated using the outer product of gradients (complex-step)."
      ],
      "text/plain": [
       "<class 'statsmodels.iolib.summary.Summary'>\n",
       "\"\"\"\n",
       "                                 Statespace Model Results                                 \n",
       "==========================================================================================\n",
       "Dep. Variable:                               Open   No. Observations:                 3000\n",
       "Model:             SARIMAX(0, 1, 0)x(0, 1, 1, 12)   Log Likelihood               -9850.618\n",
       "Date:                            Tue, 17 Sep 2019   AIC                          19705.236\n",
       "Time:                                    21:33:48   BIC                          19717.240\n",
       "Sample:                                         0   HQIC                         19709.555\n",
       "                                           - 3000                                         \n",
       "Covariance Type:                              opg                                         \n",
       "==============================================================================\n",
       "                 coef    std err          z      P>|z|      [0.025      0.975]\n",
       "------------------------------------------------------------------------------\n",
       "ma.S.L12      -1.0030      0.007   -140.115      0.000      -1.017      -0.989\n",
       "sigma2        41.7703      0.549     76.133      0.000      40.695      42.846\n",
       "===================================================================================\n",
       "Ljung-Box (Q):                       76.27   Jarque-Bera (JB):             94287.15\n",
       "Prob(Q):                              0.00   Prob(JB):                         0.00\n",
       "Heteroskedasticity (H):               3.62   Skew:                             0.97\n",
       "Prob(H) (two-sided):                  0.00   Kurtosis:                        30.46\n",
       "===================================================================================\n",
       "\n",
       "Warnings:\n",
       "[1] Covariance matrix calculated using the outer product of gradients (complex-step).\n",
       "\"\"\""
      ]
     },
     "execution_count": 87,
     "metadata": {},
     "output_type": "execute_result"
    }
   ],
   "source": [
    "from statsmodels.tsa.statespace.sarimax import SARIMAX\n",
    "model = SARIMAX(train['Open'],order=(0,1,0),seasonal_order=(0, 1, 1, 12),enforce_invertibility=False,enforce_stationarity=True)\n",
    "\n",
    "\n",
    "results = model.fit()\n",
    "results.summary()\n"
   ]
  },
  {
   "cell_type": "code",
   "execution_count": 88,
   "metadata": {},
   "outputs": [],
   "source": [
    "# Obtain predicted values\n",
    "start=len(train)##400 \n",
    "end=len(train)+len(test)-1  ## end at 433\n",
    "predictions = results.predict(start=start, end=end, dynamic=False)"
   ]
  },
  {
   "cell_type": "code",
   "execution_count": 40,
   "metadata": {},
   "outputs": [
    {
     "data": {
      "text/html": [
       "<div>\n",
       "<style scoped>\n",
       "    .dataframe tbody tr th:only-of-type {\n",
       "        vertical-align: middle;\n",
       "    }\n",
       "\n",
       "    .dataframe tbody tr th {\n",
       "        vertical-align: top;\n",
       "    }\n",
       "\n",
       "    .dataframe thead th {\n",
       "        text-align: right;\n",
       "    }\n",
       "</style>\n",
       "<table border=\"1\" class=\"dataframe\">\n",
       "  <thead>\n",
       "    <tr style=\"text-align: right;\">\n",
       "      <th></th>\n",
       "      <th>Open</th>\n",
       "    </tr>\n",
       "    <tr>\n",
       "      <th>Date</th>\n",
       "      <th></th>\n",
       "    </tr>\n",
       "  </thead>\n",
       "  <tbody>\n",
       "    <tr>\n",
       "      <th>2017-11-06</th>\n",
       "      <td>1049.10</td>\n",
       "    </tr>\n",
       "    <tr>\n",
       "      <th>2017-11-07</th>\n",
       "      <td>1049.65</td>\n",
       "    </tr>\n",
       "    <tr>\n",
       "      <th>2017-11-08</th>\n",
       "      <td>1050.05</td>\n",
       "    </tr>\n",
       "    <tr>\n",
       "      <th>2017-11-09</th>\n",
       "      <td>1048.00</td>\n",
       "    </tr>\n",
       "    <tr>\n",
       "      <th>2017-11-10</th>\n",
       "      <td>1043.87</td>\n",
       "    </tr>\n",
       "  </tbody>\n",
       "</table>\n",
       "</div>"
      ],
      "text/plain": [
       "               Open\n",
       "Date               \n",
       "2017-11-06  1049.10\n",
       "2017-11-07  1049.65\n",
       "2017-11-08  1050.05\n",
       "2017-11-09  1048.00\n",
       "2017-11-10  1043.87"
      ]
     },
     "execution_count": 40,
     "metadata": {},
     "output_type": "execute_result"
    }
   ],
   "source": [
    "test.tail()"
   ]
  },
  {
   "cell_type": "code",
   "execution_count": 89,
   "metadata": {},
   "outputs": [
    {
     "data": {
      "text/html": [
       "<div>\n",
       "<style scoped>\n",
       "    .dataframe tbody tr th:only-of-type {\n",
       "        vertical-align: middle;\n",
       "    }\n",
       "\n",
       "    .dataframe tbody tr th {\n",
       "        vertical-align: top;\n",
       "    }\n",
       "\n",
       "    .dataframe thead th {\n",
       "        text-align: right;\n",
       "    }\n",
       "</style>\n",
       "<table border=\"1\" class=\"dataframe\">\n",
       "  <thead>\n",
       "    <tr style=\"text-align: right;\">\n",
       "      <th></th>\n",
       "      <th>0</th>\n",
       "    </tr>\n",
       "  </thead>\n",
       "  <tbody>\n",
       "    <tr>\n",
       "      <th>0</th>\n",
       "      <td>749.568271</td>\n",
       "    </tr>\n",
       "    <tr>\n",
       "      <th>1</th>\n",
       "      <td>750.056294</td>\n",
       "    </tr>\n",
       "    <tr>\n",
       "      <th>2</th>\n",
       "      <td>750.834589</td>\n",
       "    </tr>\n",
       "    <tr>\n",
       "      <th>3</th>\n",
       "      <td>751.186846</td>\n",
       "    </tr>\n",
       "    <tr>\n",
       "      <th>4</th>\n",
       "      <td>751.226213</td>\n",
       "    </tr>\n",
       "    <tr>\n",
       "      <th>5</th>\n",
       "      <td>750.984778</td>\n",
       "    </tr>\n",
       "    <tr>\n",
       "      <th>6</th>\n",
       "      <td>751.285787</td>\n",
       "    </tr>\n",
       "    <tr>\n",
       "      <th>7</th>\n",
       "      <td>751.801134</td>\n",
       "    </tr>\n",
       "    <tr>\n",
       "      <th>8</th>\n",
       "      <td>751.911290</td>\n",
       "    </tr>\n",
       "    <tr>\n",
       "      <th>9</th>\n",
       "      <td>751.858716</td>\n",
       "    </tr>\n",
       "    <tr>\n",
       "      <th>10</th>\n",
       "      <td>752.423483</td>\n",
       "    </tr>\n",
       "    <tr>\n",
       "      <th>11</th>\n",
       "      <td>752.766687</td>\n",
       "    </tr>\n",
       "    <tr>\n",
       "      <th>12</th>\n",
       "      <td>752.464958</td>\n",
       "    </tr>\n",
       "    <tr>\n",
       "      <th>13</th>\n",
       "      <td>752.952982</td>\n",
       "    </tr>\n",
       "    <tr>\n",
       "      <th>14</th>\n",
       "      <td>753.731276</td>\n",
       "    </tr>\n",
       "    <tr>\n",
       "      <th>15</th>\n",
       "      <td>754.083533</td>\n",
       "    </tr>\n",
       "    <tr>\n",
       "      <th>16</th>\n",
       "      <td>754.122900</td>\n",
       "    </tr>\n",
       "    <tr>\n",
       "      <th>17</th>\n",
       "      <td>753.881465</td>\n",
       "    </tr>\n",
       "    <tr>\n",
       "      <th>18</th>\n",
       "      <td>754.182474</td>\n",
       "    </tr>\n",
       "    <tr>\n",
       "      <th>19</th>\n",
       "      <td>754.697822</td>\n",
       "    </tr>\n",
       "    <tr>\n",
       "      <th>20</th>\n",
       "      <td>754.807978</td>\n",
       "    </tr>\n",
       "    <tr>\n",
       "      <th>21</th>\n",
       "      <td>754.755403</td>\n",
       "    </tr>\n",
       "    <tr>\n",
       "      <th>22</th>\n",
       "      <td>755.320170</td>\n",
       "    </tr>\n",
       "    <tr>\n",
       "      <th>23</th>\n",
       "      <td>755.663374</td>\n",
       "    </tr>\n",
       "    <tr>\n",
       "      <th>24</th>\n",
       "      <td>755.361645</td>\n",
       "    </tr>\n",
       "    <tr>\n",
       "      <th>25</th>\n",
       "      <td>755.849669</td>\n",
       "    </tr>\n",
       "    <tr>\n",
       "      <th>26</th>\n",
       "      <td>756.627963</td>\n",
       "    </tr>\n",
       "    <tr>\n",
       "      <th>27</th>\n",
       "      <td>756.980220</td>\n",
       "    </tr>\n",
       "    <tr>\n",
       "      <th>28</th>\n",
       "      <td>757.019587</td>\n",
       "    </tr>\n",
       "    <tr>\n",
       "      <th>29</th>\n",
       "      <td>756.778152</td>\n",
       "    </tr>\n",
       "    <tr>\n",
       "      <th>...</th>\n",
       "      <td>...</td>\n",
       "    </tr>\n",
       "    <tr>\n",
       "      <th>303</th>\n",
       "      <td>823.604024</td>\n",
       "    </tr>\n",
       "    <tr>\n",
       "      <th>304</th>\n",
       "      <td>823.643391</td>\n",
       "    </tr>\n",
       "    <tr>\n",
       "      <th>305</th>\n",
       "      <td>823.401956</td>\n",
       "    </tr>\n",
       "    <tr>\n",
       "      <th>306</th>\n",
       "      <td>823.702965</td>\n",
       "    </tr>\n",
       "    <tr>\n",
       "      <th>307</th>\n",
       "      <td>824.218312</td>\n",
       "    </tr>\n",
       "    <tr>\n",
       "      <th>308</th>\n",
       "      <td>824.328468</td>\n",
       "    </tr>\n",
       "    <tr>\n",
       "      <th>309</th>\n",
       "      <td>824.275894</td>\n",
       "    </tr>\n",
       "    <tr>\n",
       "      <th>310</th>\n",
       "      <td>824.840661</td>\n",
       "    </tr>\n",
       "    <tr>\n",
       "      <th>311</th>\n",
       "      <td>825.183865</td>\n",
       "    </tr>\n",
       "    <tr>\n",
       "      <th>312</th>\n",
       "      <td>824.882136</td>\n",
       "    </tr>\n",
       "    <tr>\n",
       "      <th>313</th>\n",
       "      <td>825.370160</td>\n",
       "    </tr>\n",
       "    <tr>\n",
       "      <th>314</th>\n",
       "      <td>826.148454</td>\n",
       "    </tr>\n",
       "    <tr>\n",
       "      <th>315</th>\n",
       "      <td>826.500711</td>\n",
       "    </tr>\n",
       "    <tr>\n",
       "      <th>316</th>\n",
       "      <td>826.540078</td>\n",
       "    </tr>\n",
       "    <tr>\n",
       "      <th>317</th>\n",
       "      <td>826.298643</td>\n",
       "    </tr>\n",
       "    <tr>\n",
       "      <th>318</th>\n",
       "      <td>826.599652</td>\n",
       "    </tr>\n",
       "    <tr>\n",
       "      <th>319</th>\n",
       "      <td>827.115000</td>\n",
       "    </tr>\n",
       "    <tr>\n",
       "      <th>320</th>\n",
       "      <td>827.225156</td>\n",
       "    </tr>\n",
       "    <tr>\n",
       "      <th>321</th>\n",
       "      <td>827.172581</td>\n",
       "    </tr>\n",
       "    <tr>\n",
       "      <th>322</th>\n",
       "      <td>827.737348</td>\n",
       "    </tr>\n",
       "    <tr>\n",
       "      <th>323</th>\n",
       "      <td>828.080552</td>\n",
       "    </tr>\n",
       "    <tr>\n",
       "      <th>324</th>\n",
       "      <td>827.778823</td>\n",
       "    </tr>\n",
       "    <tr>\n",
       "      <th>325</th>\n",
       "      <td>828.266847</td>\n",
       "    </tr>\n",
       "    <tr>\n",
       "      <th>326</th>\n",
       "      <td>829.045141</td>\n",
       "    </tr>\n",
       "    <tr>\n",
       "      <th>327</th>\n",
       "      <td>829.397399</td>\n",
       "    </tr>\n",
       "    <tr>\n",
       "      <th>328</th>\n",
       "      <td>829.436765</td>\n",
       "    </tr>\n",
       "    <tr>\n",
       "      <th>329</th>\n",
       "      <td>829.195330</td>\n",
       "    </tr>\n",
       "    <tr>\n",
       "      <th>330</th>\n",
       "      <td>829.496339</td>\n",
       "    </tr>\n",
       "    <tr>\n",
       "      <th>331</th>\n",
       "      <td>830.011687</td>\n",
       "    </tr>\n",
       "    <tr>\n",
       "      <th>332</th>\n",
       "      <td>830.121843</td>\n",
       "    </tr>\n",
       "  </tbody>\n",
       "</table>\n",
       "<p>333 rows × 1 columns</p>\n",
       "</div>"
      ],
      "text/plain": [
       "              0\n",
       "0    749.568271\n",
       "1    750.056294\n",
       "2    750.834589\n",
       "3    751.186846\n",
       "4    751.226213\n",
       "5    750.984778\n",
       "6    751.285787\n",
       "7    751.801134\n",
       "8    751.911290\n",
       "9    751.858716\n",
       "10   752.423483\n",
       "11   752.766687\n",
       "12   752.464958\n",
       "13   752.952982\n",
       "14   753.731276\n",
       "15   754.083533\n",
       "16   754.122900\n",
       "17   753.881465\n",
       "18   754.182474\n",
       "19   754.697822\n",
       "20   754.807978\n",
       "21   754.755403\n",
       "22   755.320170\n",
       "23   755.663374\n",
       "24   755.361645\n",
       "25   755.849669\n",
       "26   756.627963\n",
       "27   756.980220\n",
       "28   757.019587\n",
       "29   756.778152\n",
       "..          ...\n",
       "303  823.604024\n",
       "304  823.643391\n",
       "305  823.401956\n",
       "306  823.702965\n",
       "307  824.218312\n",
       "308  824.328468\n",
       "309  824.275894\n",
       "310  824.840661\n",
       "311  825.183865\n",
       "312  824.882136\n",
       "313  825.370160\n",
       "314  826.148454\n",
       "315  826.500711\n",
       "316  826.540078\n",
       "317  826.298643\n",
       "318  826.599652\n",
       "319  827.115000\n",
       "320  827.225156\n",
       "321  827.172581\n",
       "322  827.737348\n",
       "323  828.080552\n",
       "324  827.778823\n",
       "325  828.266847\n",
       "326  829.045141\n",
       "327  829.397399\n",
       "328  829.436765\n",
       "329  829.195330\n",
       "330  829.496339\n",
       "331  830.011687\n",
       "332  830.121843\n",
       "\n",
       "[333 rows x 1 columns]"
      ]
     },
     "execution_count": 89,
     "metadata": {},
     "output_type": "execute_result"
    }
   ],
   "source": [
    "predictions=predictions.reset_index().drop(['index'],axis=1)\n",
    "predictions"
   ]
  },
  {
   "cell_type": "code",
   "execution_count": 69,
   "metadata": {},
   "outputs": [
    {
     "data": {
      "text/plain": [
       "<matplotlib.axes._subplots.AxesSubplot at 0x126cb4de668>"
      ]
     },
     "execution_count": 69,
     "metadata": {},
     "output_type": "execute_result"
    },
    {
     "data": {
      "image/png": "[encoded data removed]",
      "text/plain": [
       "<Figure size 432x288 with 1 Axes>"
      ]
     },
     "metadata": {
      "needs_background": "light"
     },
     "output_type": "display_data"
    }
   ],
   "source": [
    "# Plot predictions against known values\n",
    "title='Googl'\n",
    "ylabel='Count'\n",
    "xlabel=''\n",
    "\n",
    "#ax = test['Open'].plot(legend=True,figsize=(12,6),title=title)\n",
    "predictions[0].plot(legend=True)\n",
    "#ax.autoscale(axis='x',tight=True)\n",
    "#ax.set(xlabel=xlabel, ylabel=ylabel)"
   ]
  },
  {
   "cell_type": "code",
   "execution_count": 101,
   "metadata": {},
   "outputs": [],
   "source": [
    "# Obtain predicted values\n",
    "start=len(train)\n",
    "end=len(train)+len(test)-1\n",
    "predictions = results.predict(start=start, end=end, dynamic=False, typ='levels').rename('Predictions')"
   ]
  },
  {
   "cell_type": "code",
   "execution_count": 91,
   "metadata": {},
   "outputs": [],
   "source": []
  },
  {
   "cell_type": "code",
   "execution_count": 100,
   "metadata": {},
   "outputs": [],
   "source": [
    "test=test.reset_index()"
   ]
  },
  {
   "cell_type": "code",
   "execution_count": 102,
   "metadata": {},
   "outputs": [],
   "source": [
    "predictions=pd.DataFrame(predictions)\n",
    "predictions=predictions.reset_index()"
   ]
  },
  {
   "cell_type": "code",
   "execution_count": 103,
   "metadata": {},
   "outputs": [],
   "source": [
    "compare=pd.DataFrame(predictions).join(test)"
   ]
  },
  {
   "cell_type": "code",
   "execution_count": 104,
   "metadata": {},
   "outputs": [
    {
     "data": {
      "text/html": [
       "<div>\n",
       "<style scoped>\n",
       "    .dataframe tbody tr th:only-of-type {\n",
       "        vertical-align: middle;\n",
       "    }\n",
       "\n",
       "    .dataframe tbody tr th {\n",
       "        vertical-align: top;\n",
       "    }\n",
       "\n",
       "    .dataframe thead th {\n",
       "        text-align: right;\n",
       "    }\n",
       "</style>\n",
       "<table border=\"1\" class=\"dataframe\">\n",
       "  <thead>\n",
       "    <tr style=\"text-align: right;\">\n",
       "      <th></th>\n",
       "      <th>index</th>\n",
       "      <th>Predictions</th>\n",
       "      <th>Date</th>\n",
       "      <th>Open</th>\n",
       "    </tr>\n",
       "  </thead>\n",
       "  <tbody>\n",
       "    <tr>\n",
       "      <th>0</th>\n",
       "      <td>3000</td>\n",
       "      <td>749.568271</td>\n",
       "      <td>2016-07-20</td>\n",
       "      <td>754.05</td>\n",
       "    </tr>\n",
       "    <tr>\n",
       "      <th>1</th>\n",
       "      <td>3001</td>\n",
       "      <td>750.056294</td>\n",
       "      <td>2016-07-21</td>\n",
       "      <td>757.00</td>\n",
       "    </tr>\n",
       "    <tr>\n",
       "      <th>2</th>\n",
       "      <td>3002</td>\n",
       "      <td>750.834589</td>\n",
       "      <td>2016-07-22</td>\n",
       "      <td>757.32</td>\n",
       "    </tr>\n",
       "    <tr>\n",
       "      <th>3</th>\n",
       "      <td>3003</td>\n",
       "      <td>751.186846</td>\n",
       "      <td>2016-07-25</td>\n",
       "      <td>757.68</td>\n",
       "    </tr>\n",
       "    <tr>\n",
       "      <th>4</th>\n",
       "      <td>3004</td>\n",
       "      <td>751.226213</td>\n",
       "      <td>2016-07-26</td>\n",
       "      <td>757.52</td>\n",
       "    </tr>\n",
       "  </tbody>\n",
       "</table>\n",
       "</div>"
      ],
      "text/plain": [
       "   index  Predictions       Date    Open\n",
       "0   3000   749.568271 2016-07-20  754.05\n",
       "1   3001   750.056294 2016-07-21  757.00\n",
       "2   3002   750.834589 2016-07-22  757.32\n",
       "3   3003   751.186846 2016-07-25  757.68\n",
       "4   3004   751.226213 2016-07-26  757.52"
      ]
     },
     "execution_count": 104,
     "metadata": {},
     "output_type": "execute_result"
    }
   ],
   "source": [
    "compare.head()"
   ]
  },
  {
   "cell_type": "code",
   "execution_count": 105,
   "metadata": {},
   "outputs": [],
   "source": [
    "compare=compare.drop(['index'],axis=1)"
   ]
  },
  {
   "cell_type": "code",
   "execution_count": 108,
   "metadata": {},
   "outputs": [],
   "source": [
    "compare=compare.set_index('Date')"
   ]
  },
  {
   "cell_type": "code",
   "execution_count": 109,
   "metadata": {},
   "outputs": [
    {
     "name": "stdout",
     "output_type": "stream",
     "text": [
      " MSE Error: 107.5425894\n",
      " MSE Error: 11565.40855\n"
     ]
    }
   ],
   "source": [
    "from sklearn.metrics import mean_squared_error\n",
    "from statsmodels.tools.eval_measures import rmse\n",
    "\n",
    "rmse =rmse(compare['Predictions'], compare['Open'])\n",
    "mse = mean_squared_error(compare['Predictions'], compare['Open'])\n",
    "print(f' MSE Error: {rmse:11.10}')\n",
    "print(f' MSE Error: {mse:11.10}')"
   ]
  },
  {
   "cell_type": "code",
   "execution_count": 110,
   "metadata": {},
   "outputs": [],
   "source": [
    "from statsmodels.tsa.statespace.sarimax import SARIMAX\n",
    "model = SARIMAX(indexedDataset['Open'],order=(0,1,0),seasonal_order=(0, 1, 1, 12),enforce_invertibility=False)\n",
    "results = model.fit()\n",
    "fcast = results.predict(len(indexedDataset),len(indexedDataset)+18,typ='levels').rename('SARIMA Forecast')\n",
    "\n",
    "##add +30 instead of +18 to forecast out for the future 30 days."
   ]
  },
  {
   "cell_type": "code",
   "execution_count": 113,
   "metadata": {},
   "outputs": [
    {
     "data": {
      "text/plain": [
       "3333    1043.346934\n",
       "3334    1044.459384\n",
       "3335    1045.231590\n",
       "3336    1044.741393\n",
       "3337    1045.190005\n",
       "3338    1045.671538\n",
       "3339    1046.323064\n",
       "3340    1046.068144\n",
       "3341    1046.465413\n",
       "3342    1046.814341\n",
       "3343    1048.151253\n",
       "3344    1048.583025\n",
       "3345    1048.059959\n",
       "3346    1049.172409\n",
       "3347    1049.944615\n",
       "3348    1049.454418\n",
       "3349    1049.903030\n",
       "3350    1050.384563\n",
       "3351    1051.036089\n",
       "Name: SARIMA Forecast, dtype: float64"
      ]
     },
     "execution_count": 113,
     "metadata": {},
     "output_type": "execute_result"
    }
   ],
   "source": [
    "fcast"
   ]
  },
  {
   "cell_type": "code",
   "execution_count": 114,
   "metadata": {},
   "outputs": [
    {
     "data": {
      "text/plain": [
       "Date\n",
       "2004-08-19      50.000\n",
       "2004-08-20      50.505\n",
       "2004-08-23      55.375\n",
       "2004-08-24      55.620\n",
       "2004-08-25      52.480\n",
       "2004-08-26      52.475\n",
       "2004-08-27      54.050\n",
       "2004-08-30      52.640\n",
       "2004-08-31      51.150\n",
       "2004-09-01      51.350\n",
       "2004-09-02      49.595\n",
       "2004-09-03      50.475\n",
       "2004-09-07      50.505\n",
       "2004-09-08      50.370\n",
       "2004-09-09      51.265\n",
       "2004-09-10      50.800\n",
       "2004-09-13      53.315\n",
       "2004-09-14      53.725\n",
       "2004-09-15      55.280\n",
       "2004-09-16      56.170\n",
       "2004-09-17      57.210\n",
       "2004-09-20      58.475\n",
       "2004-09-21      59.905\n",
       "2004-09-22      58.700\n",
       "2004-09-23      59.420\n",
       "2004-09-24      60.470\n",
       "2004-09-27      59.780\n",
       "2004-09-28      60.650\n",
       "2004-09-29      63.350\n",
       "2004-09-30      64.950\n",
       "                ...   \n",
       "2017-10-02     975.650\n",
       "2017-10-03     967.560\n",
       "2017-10-04     971.760\n",
       "2017-10-05     972.790\n",
       "2017-10-06     980.000\n",
       "2017-10-09     995.000\n",
       "2017-10-10     995.300\n",
       "2017-10-11     989.040\n",
       "2017-10-12    1003.840\n",
       "2017-10-13    1009.110\n",
       "2017-10-16    1009.630\n",
       "2017-10-17    1007.440\n",
       "2017-10-18    1011.050\n",
       "2017-10-19    1004.750\n",
       "2017-10-20    1007.050\n",
       "2017-10-23    1005.180\n",
       "2017-10-24     986.500\n",
       "2017-10-25     986.270\n",
       "2017-10-26     998.470\n",
       "2017-10-27    1030.990\n",
       "2017-10-30    1029.160\n",
       "2017-10-31    1033.000\n",
       "2017-11-01    1036.320\n",
       "2017-11-02    1039.990\n",
       "2017-11-03    1042.750\n",
       "2017-11-06    1049.100\n",
       "2017-11-07    1049.650\n",
       "2017-11-08    1050.050\n",
       "2017-11-09    1048.000\n",
       "2017-11-10    1043.870\n",
       "Name: Open, Length: 3333, dtype: float64"
      ]
     },
     "execution_count": 114,
     "metadata": {},
     "output_type": "execute_result"
    }
   ],
   "source": [
    "indexedDataset['Open']"
   ]
  },
  {
   "cell_type": "code",
   "execution_count": 115,
   "metadata": {},
   "outputs": [
    {
     "data": {
      "image/png": "[encoded data removed]",
      "text/plain": [
       "<Figure size 432x288 with 1 Axes>"
      ]
     },
     "metadata": {
      "needs_background": "light"
     },
     "output_type": "display_data"
    }
   ],
   "source": [
    "# Plot predictions against known values\n",
    "import matplotlib.ticker as ticker\n",
    "formatter = ticker.StrMethodFormatter('{x:,.0f}')\n",
    "title = 'GOOGL Loan Forecast'\n",
    "#ylabel='Loans Per Week'\n",
    "#xlabel='' # we don't really need a label here\n",
    "\n",
    "#ax = indexedDataset['Open'].plot(legend=True,figsize=(12,6),title=title)\n",
    "fcast.plot(legend=True)\n",
    "#ax.autoscale(axis='x',tight=True)\n",
    "##ax.set(xlabel=xlabel, ylabel=ylabel)\n",
    "ax.yaxis.set_major_formatter(formatter);"
   ]
  },
  {
   "cell_type": "code",
   "execution_count": 116,
   "metadata": {},
   "outputs": [
    {
     "data": {
      "text/plain": [
       "3333    1043.346934\n",
       "3334    1044.459384\n",
       "3335    1045.231590\n",
       "3336    1044.741393\n",
       "3337    1045.190005\n",
       "3338    1045.671538\n",
       "3339    1046.323064\n",
       "3340    1046.068144\n",
       "3341    1046.465413\n",
       "3342    1046.814341\n",
       "3343    1048.151253\n",
       "3344    1048.583025\n",
       "3345    1048.059959\n",
       "3346    1049.172409\n",
       "3347    1049.944615\n",
       "3348    1049.454418\n",
       "3349    1049.903030\n",
       "3350    1050.384563\n",
       "3351    1051.036089\n",
       "Name: SARIMA Forecast, dtype: float64"
      ]
     },
     "execution_count": 116,
     "metadata": {},
     "output_type": "execute_result"
    }
   ],
   "source": [
    "fcast"
   ]
  },
  {
   "cell_type": "code",
   "execution_count": null,
   "metadata": {},
   "outputs": [],
   "source": []
  },
  {
   "cell_type": "code",
   "execution_count": null,
   "metadata": {},
   "outputs": [],
   "source": []
  }
 ],
 "metadata": {
  "kernelspec": {
   "display_name": "Python 3",
   "language": "python",
   "name": "python3"
  },
  "language_info": {
   "codemirror_mode": {
    "name": "ipython",
    "version": 3
   },
   "file_extension": ".py",
   "mimetype": "text/x-python",
   "name": "python",
   "nbconvert_exporter": "python",
   "pygments_lexer": "ipython3",
   "version": "3.7.1"
  }
 },
 "nbformat": 4,
 "nbformat_minor": 2
}
