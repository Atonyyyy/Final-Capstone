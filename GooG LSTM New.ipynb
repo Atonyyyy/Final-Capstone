{
 "cells": [
  {
   "cell_type": "code",
   "execution_count": 1,
   "metadata": {},
   "outputs": [],
   "source": [
    "\n",
    "import numpy as np\n",
    "import matplotlib.pyplot as plt\n",
    "import pandas as pd"
   ]
  },
  {
   "cell_type": "code",
   "execution_count": 2,
   "metadata": {},
   "outputs": [],
   "source": [
    "df = pd.read_csv('googl.txt')\n",
    "df=df.dropna()\n",
    "dataset_train=df[0:1200]\n",
    "dataset_test =df[1201:1257]\n",
    "training_set = dataset_train.iloc[:, 1:2].values"
   ]
  },
  {
   "cell_type": "code",
   "execution_count": 3,
   "metadata": {},
   "outputs": [
    {
     "data": {
      "text/plain": [
       "Date       0\n",
       "Open       0\n",
       "High       0\n",
       "Low        0\n",
       "Close      0\n",
       "Volume     0\n",
       "OpenInt    0\n",
       "dtype: int64"
      ]
     },
     "execution_count": 3,
     "metadata": {},
     "output_type": "execute_result"
    }
   ],
   "source": [
    "dataset_train.isna().sum()"
   ]
  },
  {
   "cell_type": "code",
   "execution_count": 4,
   "metadata": {},
   "outputs": [
    {
     "data": {
      "text/html": [
       "<div>\n",
       "<style scoped>\n",
       "    .dataframe tbody tr th:only-of-type {\n",
       "        vertical-align: middle;\n",
       "    }\n",
       "\n",
       "    .dataframe tbody tr th {\n",
       "        vertical-align: top;\n",
       "    }\n",
       "\n",
       "    .dataframe thead th {\n",
       "        text-align: right;\n",
       "    }\n",
       "</style>\n",
       "<table border=\"1\" class=\"dataframe\">\n",
       "  <thead>\n",
       "    <tr style=\"text-align: right;\">\n",
       "      <th></th>\n",
       "      <th>Date</th>\n",
       "      <th>Open</th>\n",
       "      <th>High</th>\n",
       "      <th>Low</th>\n",
       "      <th>Close</th>\n",
       "      <th>Volume</th>\n",
       "      <th>OpenInt</th>\n",
       "    </tr>\n",
       "  </thead>\n",
       "  <tbody>\n",
       "    <tr>\n",
       "      <th>0</th>\n",
       "      <td>2004-08-19</td>\n",
       "      <td>50.000</td>\n",
       "      <td>52.03</td>\n",
       "      <td>47.980</td>\n",
       "      <td>50.170</td>\n",
       "      <td>44703800</td>\n",
       "      <td>0</td>\n",
       "    </tr>\n",
       "    <tr>\n",
       "      <th>1</th>\n",
       "      <td>2004-08-20</td>\n",
       "      <td>50.505</td>\n",
       "      <td>54.54</td>\n",
       "      <td>50.250</td>\n",
       "      <td>54.155</td>\n",
       "      <td>22857200</td>\n",
       "      <td>0</td>\n",
       "    </tr>\n",
       "    <tr>\n",
       "      <th>2</th>\n",
       "      <td>2004-08-23</td>\n",
       "      <td>55.375</td>\n",
       "      <td>56.74</td>\n",
       "      <td>54.525</td>\n",
       "      <td>54.700</td>\n",
       "      <td>18274400</td>\n",
       "      <td>0</td>\n",
       "    </tr>\n",
       "    <tr>\n",
       "      <th>3</th>\n",
       "      <td>2004-08-24</td>\n",
       "      <td>55.620</td>\n",
       "      <td>55.80</td>\n",
       "      <td>51.785</td>\n",
       "      <td>52.435</td>\n",
       "      <td>15262600</td>\n",
       "      <td>0</td>\n",
       "    </tr>\n",
       "    <tr>\n",
       "      <th>4</th>\n",
       "      <td>2004-08-25</td>\n",
       "      <td>52.480</td>\n",
       "      <td>54.00</td>\n",
       "      <td>51.940</td>\n",
       "      <td>53.000</td>\n",
       "      <td>9197800</td>\n",
       "      <td>0</td>\n",
       "    </tr>\n",
       "  </tbody>\n",
       "</table>\n",
       "</div>"
      ],
      "text/plain": [
       "         Date    Open   High     Low   Close    Volume  OpenInt\n",
       "0  2004-08-19  50.000  52.03  47.980  50.170  44703800        0\n",
       "1  2004-08-20  50.505  54.54  50.250  54.155  22857200        0\n",
       "2  2004-08-23  55.375  56.74  54.525  54.700  18274400        0\n",
       "3  2004-08-24  55.620  55.80  51.785  52.435  15262600        0\n",
       "4  2004-08-25  52.480  54.00  51.940  53.000   9197800        0"
      ]
     },
     "execution_count": 4,
     "metadata": {},
     "output_type": "execute_result"
    }
   ],
   "source": [
    "df.head()"
   ]
  },
  {
   "cell_type": "code",
   "execution_count": 5,
   "metadata": {},
   "outputs": [
    {
     "data": {
      "text/plain": [
       "array([[ 50.   ],\n",
       "       [ 50.505],\n",
       "       [ 55.375],\n",
       "       ...,\n",
       "       [198.15 ],\n",
       "       [198.33 ],\n",
       "       [195.98 ]])"
      ]
     },
     "execution_count": 5,
     "metadata": {},
     "output_type": "execute_result"
    }
   ],
   "source": [
    "training_set"
   ]
  },
  {
   "cell_type": "code",
   "execution_count": 6,
   "metadata": {},
   "outputs": [
    {
     "data": {
      "text/html": [
       "<div>\n",
       "<style scoped>\n",
       "    .dataframe tbody tr th:only-of-type {\n",
       "        vertical-align: middle;\n",
       "    }\n",
       "\n",
       "    .dataframe tbody tr th {\n",
       "        vertical-align: top;\n",
       "    }\n",
       "\n",
       "    .dataframe thead th {\n",
       "        text-align: right;\n",
       "    }\n",
       "</style>\n",
       "<table border=\"1\" class=\"dataframe\">\n",
       "  <thead>\n",
       "    <tr style=\"text-align: right;\">\n",
       "      <th></th>\n",
       "      <th>Date</th>\n",
       "      <th>Open</th>\n",
       "      <th>High</th>\n",
       "      <th>Low</th>\n",
       "      <th>Close</th>\n",
       "      <th>Volume</th>\n",
       "      <th>OpenInt</th>\n",
       "    </tr>\n",
       "  </thead>\n",
       "  <tbody>\n",
       "    <tr>\n",
       "      <th>1195</th>\n",
       "      <td>2009-05-19</td>\n",
       "      <td>198.05</td>\n",
       "      <td>200.82</td>\n",
       "      <td>196.50</td>\n",
       "      <td>199.44</td>\n",
       "      <td>5675000</td>\n",
       "      <td>0</td>\n",
       "    </tr>\n",
       "    <tr>\n",
       "      <th>1196</th>\n",
       "      <td>2009-05-20</td>\n",
       "      <td>201.04</td>\n",
       "      <td>202.84</td>\n",
       "      <td>197.50</td>\n",
       "      <td>198.59</td>\n",
       "      <td>4568000</td>\n",
       "      <td>0</td>\n",
       "    </tr>\n",
       "    <tr>\n",
       "      <th>1197</th>\n",
       "      <td>2009-05-21</td>\n",
       "      <td>198.15</td>\n",
       "      <td>201.42</td>\n",
       "      <td>196.92</td>\n",
       "      <td>198.25</td>\n",
       "      <td>5439600</td>\n",
       "      <td>0</td>\n",
       "    </tr>\n",
       "    <tr>\n",
       "      <th>1198</th>\n",
       "      <td>2009-05-22</td>\n",
       "      <td>198.33</td>\n",
       "      <td>199.32</td>\n",
       "      <td>196.00</td>\n",
       "      <td>196.75</td>\n",
       "      <td>3437200</td>\n",
       "      <td>0</td>\n",
       "    </tr>\n",
       "    <tr>\n",
       "      <th>1199</th>\n",
       "      <td>2009-05-26</td>\n",
       "      <td>195.98</td>\n",
       "      <td>202.50</td>\n",
       "      <td>195.00</td>\n",
       "      <td>202.18</td>\n",
       "      <td>6209000</td>\n",
       "      <td>0</td>\n",
       "    </tr>\n",
       "  </tbody>\n",
       "</table>\n",
       "</div>"
      ],
      "text/plain": [
       "            Date    Open    High     Low   Close   Volume  OpenInt\n",
       "1195  2009-05-19  198.05  200.82  196.50  199.44  5675000        0\n",
       "1196  2009-05-20  201.04  202.84  197.50  198.59  4568000        0\n",
       "1197  2009-05-21  198.15  201.42  196.92  198.25  5439600        0\n",
       "1198  2009-05-22  198.33  199.32  196.00  196.75  3437200        0\n",
       "1199  2009-05-26  195.98  202.50  195.00  202.18  6209000        0"
      ]
     },
     "execution_count": 6,
     "metadata": {},
     "output_type": "execute_result"
    }
   ],
   "source": [
    "dataset_train.tail()"
   ]
  },
  {
   "cell_type": "code",
   "execution_count": 7,
   "metadata": {},
   "outputs": [
    {
     "data": {
      "text/plain": [
       "array([[ 50.   ],\n",
       "       [ 50.505],\n",
       "       [ 55.375],\n",
       "       ...,\n",
       "       [198.15 ],\n",
       "       [198.33 ],\n",
       "       [195.98 ]])"
      ]
     },
     "execution_count": 7,
     "metadata": {},
     "output_type": "execute_result"
    }
   ],
   "source": [
    "training_set"
   ]
  },
  {
   "cell_type": "code",
   "execution_count": 8,
   "metadata": {},
   "outputs": [],
   "source": [
    "from sklearn.preprocessing import MinMaxScaler\n",
    "sc = MinMaxScaler(feature_range = (0, 1))\n",
    "training_set_scaled = sc.fit_transform(training_set)"
   ]
  },
  {
   "cell_type": "code",
   "execution_count": 9,
   "metadata": {},
   "outputs": [],
   "source": [
    "X_train = []\n",
    "y_train = []\n",
    "for i in range(60, 1200):\n",
    "    X_train.append(training_set_scaled[i-60:i, 0])\n",
    "    y_train.append(training_set_scaled[i, 0])\n",
    "X_train, y_train = np.array(X_train), np.array(y_train)\n",
    "\n",
    "X_train = np.reshape(X_train, (X_train.shape[0], X_train.shape[1], 1))"
   ]
  },
  {
   "cell_type": "code",
   "execution_count": 10,
   "metadata": {},
   "outputs": [
    {
     "data": {
      "text/plain": [
       "(1140, 60, 1)"
      ]
     },
     "execution_count": 10,
     "metadata": {},
     "output_type": "execute_result"
    }
   ],
   "source": [
    "X_train.shape"
   ]
  },
  {
   "cell_type": "code",
   "execution_count": 11,
   "metadata": {},
   "outputs": [
    {
     "name": "stderr",
     "output_type": "stream",
     "text": [
      "Using TensorFlow backend.\n",
      "C:\\Users\\ayush\\AppData\\Local\\Continuum\\anaconda3\\lib\\site-packages\\tensorflow\\python\\framework\\dtypes.py:526: FutureWarning: Passing (type, 1) or '1type' as a synonym of type is deprecated; in a future version of numpy, it will be understood as (type, (1,)) / '(1,)type'.\n",
      "  _np_qint8 = np.dtype([(\"qint8\", np.int8, 1)])\n",
      "C:\\Users\\ayush\\AppData\\Local\\Continuum\\anaconda3\\lib\\site-packages\\tensorflow\\python\\framework\\dtypes.py:527: FutureWarning: Passing (type, 1) or '1type' as a synonym of type is deprecated; in a future version of numpy, it will be understood as (type, (1,)) / '(1,)type'.\n",
      "  _np_quint8 = np.dtype([(\"quint8\", np.uint8, 1)])\n",
      "C:\\Users\\ayush\\AppData\\Local\\Continuum\\anaconda3\\lib\\site-packages\\tensorflow\\python\\framework\\dtypes.py:528: FutureWarning: Passing (type, 1) or '1type' as a synonym of type is deprecated; in a future version of numpy, it will be understood as (type, (1,)) / '(1,)type'.\n",
      "  _np_qint16 = np.dtype([(\"qint16\", np.int16, 1)])\n",
      "C:\\Users\\ayush\\AppData\\Local\\Continuum\\anaconda3\\lib\\site-packages\\tensorflow\\python\\framework\\dtypes.py:529: FutureWarning: Passing (type, 1) or '1type' as a synonym of type is deprecated; in a future version of numpy, it will be understood as (type, (1,)) / '(1,)type'.\n",
      "  _np_quint16 = np.dtype([(\"quint16\", np.uint16, 1)])\n",
      "C:\\Users\\ayush\\AppData\\Local\\Continuum\\anaconda3\\lib\\site-packages\\tensorflow\\python\\framework\\dtypes.py:530: FutureWarning: Passing (type, 1) or '1type' as a synonym of type is deprecated; in a future version of numpy, it will be understood as (type, (1,)) / '(1,)type'.\n",
      "  _np_qint32 = np.dtype([(\"qint32\", np.int32, 1)])\n",
      "C:\\Users\\ayush\\AppData\\Local\\Continuum\\anaconda3\\lib\\site-packages\\tensorflow\\python\\framework\\dtypes.py:535: FutureWarning: Passing (type, 1) or '1type' as a synonym of type is deprecated; in a future version of numpy, it will be understood as (type, (1,)) / '(1,)type'.\n",
      "  np_resource = np.dtype([(\"resource\", np.ubyte, 1)])\n"
     ]
    }
   ],
   "source": [
    "\n",
    "from keras.models import Sequential\n",
    "from keras.layers import Dense\n",
    "from keras.layers import LSTM\n",
    "from keras.layers import Dropout"
   ]
  },
  {
   "cell_type": "code",
   "execution_count": 13,
   "metadata": {},
   "outputs": [
    {
     "name": "stdout",
     "output_type": "stream",
     "text": [
      "Epoch 1/100\n",
      "1140/1140 [==============================] - 15s 13ms/step - loss: 0.0348\n",
      "Epoch 2/100\n",
      "1140/1140 [==============================] - 13s 12ms/step - loss: 0.0060\n",
      "Epoch 3/100\n",
      "1140/1140 [==============================] - ETA: 0s - loss: 0.005 - 13s 11ms/step - loss: 0.0054\n",
      "Epoch 4/100\n",
      "1140/1140 [==============================] - 13s 11ms/step - loss: 0.0048\n",
      "Epoch 5/100\n",
      "1140/1140 [==============================] - 14s 13ms/step - loss: 0.0046\n",
      "Epoch 6/100\n",
      "1140/1140 [==============================] - 14s 12ms/step - loss: 0.0038\n",
      "Epoch 7/100\n",
      "1140/1140 [==============================] - 14s 12ms/step - loss: 0.0037\n",
      "Epoch 8/100\n",
      "1140/1140 [==============================] - 14s 12ms/step - loss: 0.0033\n",
      "Epoch 9/100\n",
      "1140/1140 [==============================] - 14s 12ms/step - loss: 0.0034\n",
      "Epoch 10/100\n",
      "1140/1140 [==============================] - 14s 12ms/step - loss: 0.0033\n",
      "Epoch 11/100\n",
      "1140/1140 [==============================] - ETA: 0s - loss: 0.003 - 14s 12ms/step - loss: 0.0032\n",
      "Epoch 12/100\n",
      "1140/1140 [==============================] - 15s 13ms/step - loss: 0.0031\n",
      "Epoch 13/100\n",
      "1140/1140 [==============================] - 14s 12ms/step - loss: 0.0033\n",
      "Epoch 14/100\n",
      "1140/1140 [==============================] - 14s 12ms/step - loss: 0.0030\n",
      "Epoch 15/100\n",
      "1140/1140 [==============================] - 14s 13ms/step - loss: 0.0027\n",
      "Epoch 16/100\n",
      "1140/1140 [==============================] - 14s 12ms/step - loss: 0.0031\n",
      "Epoch 17/100\n",
      "1140/1140 [==============================] - 14s 12ms/step - loss: 0.0029\n",
      "Epoch 18/100\n",
      "1140/1140 [==============================] - 14s 12ms/step - loss: 0.0029\n",
      "Epoch 19/100\n",
      "1140/1140 [==============================] - 14s 13ms/step - loss: 0.0025\n",
      "Epoch 20/100\n",
      "1140/1140 [==============================] - 14s 12ms/step - loss: 0.0024\n",
      "Epoch 21/100\n",
      "1140/1140 [==============================] - 15s 13ms/step - loss: 0.0029\n",
      "Epoch 22/100\n",
      "1140/1140 [==============================] - 15s 13ms/step - loss: 0.0024\n",
      "Epoch 23/100\n",
      "1140/1140 [==============================] - 14s 13ms/step - loss: 0.0025\n",
      "Epoch 24/100\n",
      "1140/1140 [==============================] - 14s 13ms/step - loss: 0.0025\n",
      "Epoch 25/100\n",
      "1140/1140 [==============================] - 14s 13ms/step - loss: 0.0023\n",
      "Epoch 26/100\n",
      "1140/1140 [==============================] - 14s 13ms/step - loss: 0.0022\n",
      "Epoch 27/100\n",
      "1140/1140 [==============================] - 14s 12ms/step - loss: 0.0021\n",
      "Epoch 28/100\n",
      "1140/1140 [==============================] - 14s 13ms/step - loss: 0.0019\n",
      "Epoch 29/100\n",
      "1140/1140 [==============================] - 13s 12ms/step - loss: 0.0022\n",
      "Epoch 30/100\n",
      "1140/1140 [==============================] - 13s 12ms/step - loss: 0.0020 5s - - ETA:\n",
      "Epoch 31/100\n",
      "1140/1140 [==============================] - 14s 12ms/step - loss: 0.0018\n",
      "Epoch 32/100\n",
      "1140/1140 [==============================] - 14s 12ms/step - loss: 0.0021\n",
      "Epoch 33/100\n",
      "1140/1140 [==============================] - 14s 12ms/step - loss: 0.0022\n",
      "Epoch 34/100\n",
      "1140/1140 [==============================] - 14s 13ms/step - loss: 0.0018\n",
      "Epoch 35/100\n",
      "1140/1140 [==============================] - 14s 12ms/step - loss: 0.0018\n",
      "Epoch 36/100\n",
      "1140/1140 [==============================] - 14s 12ms/step - loss: 0.0018\n",
      "Epoch 37/100\n",
      "1140/1140 [==============================] - 14s 12ms/step - loss: 0.0016\n",
      "Epoch 38/100\n",
      "1140/1140 [==============================] - 14s 12ms/step - loss: 0.0016\n",
      "Epoch 39/100\n",
      "1140/1140 [==============================] - 14s 12ms/step - loss: 0.0016\n",
      "Epoch 40/100\n",
      "1140/1140 [==============================] - 14s 13ms/step - loss: 0.0017\n",
      "Epoch 41/100\n",
      "1140/1140 [==============================] - 14s 13ms/step - loss: 0.0015\n",
      "Epoch 42/100\n",
      "1140/1140 [==============================] - 14s 12ms/step - loss: 0.0014\n",
      "Epoch 43/100\n",
      "1140/1140 [==============================] - 14s 12ms/step - loss: 0.0015\n",
      "Epoch 44/100\n",
      "1140/1140 [==============================] - 14s 12ms/step - loss: 0.0016\n",
      "Epoch 45/100\n",
      "1140/1140 [==============================] - 14s 12ms/step - loss: 0.0014\n",
      "Epoch 46/100\n",
      "1140/1140 [==============================] - 14s 12ms/step - loss: 0.0015 2\n",
      "Epoch 47/100\n",
      "1140/1140 [==============================] - 14s 13ms/step - loss: 0.0014\n",
      "Epoch 48/100\n",
      "1140/1140 [==============================] - 14s 12ms/step - loss: 0.0016\n",
      "Epoch 49/100\n",
      "1140/1140 [==============================] - 14s 13ms/step - loss: 0.0015\n",
      "Epoch 50/100\n",
      "1140/1140 [==============================] - 14s 13ms/step - loss: 0.0012\n",
      "Epoch 51/100\n",
      "1140/1140 [==============================] - 14s 12ms/step - loss: 0.0013\n",
      "Epoch 52/100\n",
      "1140/1140 [==============================] - 14s 12ms/step - loss: 0.0013\n",
      "Epoch 53/100\n",
      "1140/1140 [==============================] - 15s 13ms/step - loss: 0.0013\n",
      "Epoch 54/100\n",
      "1140/1140 [==============================] - 14s 12ms/step - loss: 0.0012\n",
      "Epoch 55/100\n",
      "1140/1140 [==============================] - 14s 12ms/step - loss: 0.0012\n",
      "Epoch 56/100\n",
      "1140/1140 [==============================] - 14s 12ms/step - loss: 0.0012\n",
      "Epoch 57/100\n",
      "1140/1140 [==============================] - 13s 12ms/step - loss: 0.0011 3s - loss: 0.001 - ET\n",
      "Epoch 58/100\n",
      "1140/1140 [==============================] - 14s 12ms/step - loss: 0.0013\n",
      "Epoch 59/100\n",
      "1140/1140 [==============================] - 13s 12ms/step - loss: 0.0011\n",
      "Epoch 60/100\n",
      "1140/1140 [==============================] - 13s 12ms/step - loss: 0.0012\n",
      "Epoch 61/100\n",
      "1140/1140 [==============================] - 13s 12ms/step - loss: 0.0011\n",
      "Epoch 62/100\n",
      "1140/1140 [==============================] - 13s 12ms/step - loss: 0.0012\n",
      "Epoch 63/100\n",
      "1140/1140 [==============================] - 14s 12ms/step - loss: 0.0010\n",
      "Epoch 64/100\n",
      "1140/1140 [==============================] - 13s 12ms/step - loss: 9.9810e-04s -\n",
      "Epoch 65/100\n",
      "1140/1140 [==============================] - 14s 12ms/step - loss: 0.0010\n",
      "Epoch 66/100\n",
      "1140/1140 [==============================] - 13s 12ms/step - loss: 9.6380e-04\n",
      "Epoch 67/100\n",
      "1140/1140 [==============================] - 14s 12ms/step - loss: 0.0011\n",
      "Epoch 68/100\n",
      "1140/1140 [==============================] - 14s 12ms/step - loss: 8.6734e-04\n",
      "Epoch 69/100\n",
      "1140/1140 [==============================] - 14s 13ms/step - loss: 0.0010\n",
      "Epoch 70/100\n",
      "1140/1140 [==============================] - 14s 13ms/step - loss: 9.1796e-04\n",
      "Epoch 71/100\n",
      "1140/1140 [==============================] - 14s 13ms/step - loss: 8.3756e-04\n",
      "Epoch 72/100\n",
      "1140/1140 [==============================] - 14s 13ms/step - loss: 9.1884e-04\n",
      "Epoch 73/100\n",
      "1140/1140 [==============================] - 14s 13ms/step - loss: 8.5526e-04\n",
      "Epoch 74/100\n",
      "1140/1140 [==============================] - 14s 12ms/step - loss: 8.9095e-04\n",
      "Epoch 75/100\n",
      "1140/1140 [==============================] - 14s 12ms/step - loss: 8.3937e-04\n",
      "Epoch 76/100\n",
      "1140/1140 [==============================] - 14s 12ms/step - loss: 8.7515e-04\n",
      "Epoch 77/100\n",
      "1140/1140 [==============================] - 14s 12ms/step - loss: 8.1565e-04\n",
      "Epoch 78/100\n",
      "1140/1140 [==============================] - 14s 12ms/step - loss: 8.2947e-04\n",
      "Epoch 79/100\n",
      "1140/1140 [==============================] - 16s 14ms/step - loss: 8.3207e-04\n",
      "Epoch 80/100\n",
      "1140/1140 [==============================] - 15s 13ms/step - loss: 8.6114e-04\n",
      "Epoch 81/100\n",
      "1140/1140 [==============================] - 18s 16ms/step - loss: 8.2704e-04\n",
      "Epoch 82/100\n",
      "1140/1140 [==============================] - 20s 18ms/step - loss: 7.7979e-04\n",
      "Epoch 83/100\n",
      "1140/1140 [==============================] - 18s 16ms/step - loss: 8.6913e-04\n",
      "Epoch 84/100\n",
      "1140/1140 [==============================] - 17s 15ms/step - loss: 7.9328e-04\n",
      "Epoch 85/100\n",
      "1140/1140 [==============================] - 19s 17ms/step - loss: 9.0880e-04\n",
      "Epoch 86/100\n",
      "1140/1140 [==============================] - 21s 18ms/step - loss: 7.5976e-04\n",
      "Epoch 87/100\n",
      "1140/1140 [==============================] - 24s 21ms/step - loss: 8.7361e-04\n",
      "Epoch 88/100\n",
      "1140/1140 [==============================] - 28s 25ms/step - loss: 7.5398e-04\n",
      "Epoch 89/100\n",
      "1140/1140 [==============================] - 21s 19ms/step - loss: 8.2749e-04\n",
      "Epoch 90/100\n",
      "1140/1140 [==============================] - 21s 18ms/step - loss: 7.7883e-04\n",
      "Epoch 91/100\n",
      "1140/1140 [==============================] - 24s 21ms/step - loss: 7.7426e-04\n",
      "Epoch 92/100\n",
      "1140/1140 [==============================] - 22s 20ms/step - loss: 7.5050e-04\n",
      "Epoch 93/100\n"
     ]
    },
    {
     "name": "stdout",
     "output_type": "stream",
     "text": [
      "1140/1140 [==============================] - 19s 17ms/step - loss: 7.9392e-04\n",
      "Epoch 94/100\n",
      "1140/1140 [==============================] - 19s 17ms/step - loss: 6.3141e-04\n",
      "Epoch 95/100\n",
      "1140/1140 [==============================] - 18s 16ms/step - loss: 7.6867e-04\n",
      "Epoch 96/100\n",
      "1140/1140 [==============================] - 18s 16ms/step - loss: 7.5939e-04\n",
      "Epoch 97/100\n",
      "1140/1140 [==============================] - 17s 15ms/step - loss: 6.5893e-04\n",
      "Epoch 98/100\n",
      "1140/1140 [==============================] - 17s 15ms/step - loss: 7.1065e-04\n",
      "Epoch 99/100\n",
      "1140/1140 [==============================] - 18s 16ms/step - loss: 6.8420e-04\n",
      "Epoch 100/100\n",
      "1140/1140 [==============================] - 17s 15ms/step - loss: 8.3808e-04\n"
     ]
    },
    {
     "data": {
      "text/plain": [
       "<keras.callbacks.History at 0x223d2573978>"
      ]
     },
     "execution_count": 13,
     "metadata": {},
     "output_type": "execute_result"
    }
   ],
   "source": [
    "regressor = Sequential()\n",
    "\n",
    "regressor.add(LSTM(units = 25, return_sequences = True, input_shape = (X_train.shape[1], 1)))\n",
    "regressor.add(Dropout(0.1))\n",
    "\n",
    "regressor.add(LSTM(units = 25, return_sequences = True))\n",
    "regressor.add(Dropout(0.1))\n",
    "\n",
    "regressor.add(LSTM(units = 25, return_sequences = True))\n",
    "regressor.add(Dropout(0.1))\n",
    "\n",
    "regressor.add(LSTM(units = 25))\n",
    "regressor.add(Dropout(0.1))\n",
    "\n",
    "regressor.add(Dense(units = 1))\n",
    "\n",
    "regressor.compile(optimizer = 'adam', loss = 'mean_squared_error')##adam is the learning rate of the neural network\n",
    "\n",
    "regressor.fit(X_train, y_train, epochs = 100, batch_size = 16)## the number of back and forths that is done."
   ]
  },
  {
   "cell_type": "code",
   "execution_count": 16,
   "metadata": {},
   "outputs": [],
   "source": [
    "\n",
    "real_stock_price = dataset_test.iloc[:, 1:2].values"
   ]
  },
  {
   "cell_type": "code",
   "execution_count": null,
   "metadata": {},
   "outputs": [],
   "source": [
    "dataset_test"
   ]
  },
  {
   "cell_type": "code",
   "execution_count": 17,
   "metadata": {},
   "outputs": [],
   "source": [
    "dataset_total = pd.concat((dataset_train['Open'], dataset_test['Open']), axis = 0)\n",
    "inputs = dataset_total[len(dataset_total) - len(dataset_test) - 60:].values\n",
    "inputs = inputs.reshape(-1,1)\n",
    "inputs = sc.transform(inputs)\n",
    "X_test = []\n",
    "for i in range(60, 116):\n",
    "    X_test.append(inputs[i-60:i, 0])\n",
    "X_test = np.array(X_test)\n",
    "X_test = np.reshape(X_test, (X_test.shape[0], X_test.shape[1], 1))\n",
    "predicted_stock_price = regressor.predict(X_test)\n",
    "predicted_stock_price = sc.inverse_transform(predicted_stock_price)"
   ]
  },
  {
   "cell_type": "code",
   "execution_count": 18,
   "metadata": {},
   "outputs": [
    {
     "data": {
      "image/png": "[encoded data removed]",
      "text/plain": [
       "<Figure size 432x288 with 1 Axes>"
      ]
     },
     "metadata": {
      "needs_background": "light"
     },
     "output_type": "display_data"
    }
   ],
   "source": [
    "plt.plot(real_stock_price, color = 'black', label = ' Stock Price')\n",
    "plt.plot(predicted_stock_price, color = 'green', label = 'Predicted GOOGL Stock Price')\n",
    "plt.title('GOOGL Stock Price Prediction')\n",
    "plt.xlabel('Time')\n",
    "plt.ylabel('GOOGL Stock Price')\n",
    "plt.legend()\n",
    "plt.show()"
   ]
  },
  {
   "cell_type": "code",
   "execution_count": 19,
   "metadata": {},
   "outputs": [
    {
     "name": "stdout",
     "output_type": "stream",
     "text": [
      " RMSE Error:  3.78051681\n",
      " MSE Error: 14.29230735\n"
     ]
    }
   ],
   "source": [
    "from math import sqrt\n",
    "from sklearn.metrics import mean_squared_error\n",
    "\n",
    "rmse =sqrt(mean_squared_error(predicted_stock_price, real_stock_price))\n",
    "mse = mean_squared_error(predicted_stock_price, real_stock_price)\n",
    "print(f' RMSE Error: {rmse:11.10}')\n",
    "print(f' MSE Error: {mse:11.10}')"
   ]
  },
  {
   "cell_type": "code",
   "execution_count": null,
   "metadata": {},
   "outputs": [],
   "source": []
  }
 ],
 "metadata": {
  "kernelspec": {
   "display_name": "Python 3",
   "language": "python",
   "name": "python3"
  },
  "language_info": {
   "codemirror_mode": {
    "name": "ipython",
    "version": 3
   },
   "file_extension": ".py",
   "mimetype": "text/x-python",
   "name": "python",
   "nbconvert_exporter": "python",
   "pygments_lexer": "ipython3",
   "version": "3.7.1"
  }
 },
 "nbformat": 4,
 "nbformat_minor": 2
}
